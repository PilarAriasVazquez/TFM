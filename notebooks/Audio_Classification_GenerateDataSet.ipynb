{
 "cells": [
  {
   "cell_type": "code",
   "execution_count": 2,
   "id": "f56e954a",
   "metadata": {},
   "outputs": [],
   "source": [
    "import pandas as pd\n",
    "import os\n",
    "import random \n",
    "import time"
   ]
  },
  {
   "cell_type": "code",
   "execution_count": 4,
   "id": "ef2377d0",
   "metadata": {},
   "outputs": [],
   "source": [
    "transcripts = pd.read_csv(\"../data/transcripciones/transcripciones_common_voice.tsv\", sep = \"\\t\")\n",
    "spanish_filter = transcripts[\"accents\"].str.contains(\"España\") | transcripts[\"accents\"].isnull()\n",
    "columns_remove = [\"client_id\",\"up_votes\",\"down_votes\",\"variant\",\"locale\", \"segment\",\"age\",\"gender\",\"accents\"]\n",
    "transcripts = transcripts.drop(columns_remove, axis = 1)"
   ]
  },
  {
   "cell_type": "code",
   "execution_count": 3,
   "id": "8d4f848a",
   "metadata": {},
   "outputs": [],
   "source": [
    "def get_audio_code(x):\n",
    "    temp = x.split(\"_\")[-1]\n",
    "    return temp.replace(\".mp3\", \"\")\n",
    "\n",
    "transcripts[\"id\"] = transcripts[\"path\"].apply(get_audio_code)"
   ]
  },
  {
   "cell_type": "code",
   "execution_count": 5,
   "id": "940eec4f",
   "metadata": {},
   "outputs": [],
   "source": [
    "audio_names = os.listdir(\"../data/audios/\")\n",
    "transcripts = transcripts[transcripts[\"path\"].isin(audio_names)]"
   ]
  },
  {
   "cell_type": "code",
   "execution_count": 6,
   "id": "564a1aa8",
   "metadata": {},
   "outputs": [],
   "source": [
    "voice_id = [(\"Sara\", \"KHCvMklQZZo0O30ERnVn\"), \n",
    "            (\"David\", \"Nh2zY9kknu6z4pZy6FhD\"), \n",
    "            (\"JuanCarlos\", \"YExhVa4bZONzeingloMX\"), \n",
    "            (\"Elena\", \"tXgbXPnsMpKXkuTgvE3h\"),\n",
    "            (\"Emilio\", \"ZCh4e9eZSUf41K4cmCEL\"),\n",
    "            (\"Martin\", \"W5JElH3dK1UYYAiHH7uh\")]"
   ]
  },
  {
   "cell_type": "code",
   "execution_count": 6,
   "id": "653788a8",
   "metadata": {},
   "outputs": [],
   "source": [
    "sentences = transcripts[\"sentence\"].values[:500]\n",
    "path = transcripts[\"path\"].values[:500]\n",
    "path = [path.replace(\".mp3\", \"\") for path in path]"
   ]
  },
  {
   "cell_type": "code",
   "execution_count": 1,
   "id": "1a7327d7",
   "metadata": {},
   "outputs": [
    {
     "name": "stdout",
     "output_type": "stream",
     "text": [
      "/home/juanhern/Documents/DataAnalatycs/Master/TFM2/src\n"
     ]
    }
   ],
   "source": [
    "cd ../src"
   ]
  },
  {
   "cell_type": "code",
   "execution_count": 2,
   "id": "5d1dffa8",
   "metadata": {},
   "outputs": [
    {
     "ename": "ValueError",
     "evalue": "No existe la variable de entorno ELEVENLABS_API_KEY",
     "output_type": "error",
     "traceback": [
      "\u001b[31m---------------------------------------------------------------------------\u001b[39m",
      "\u001b[31mValueError\u001b[39m                                Traceback (most recent call last)",
      "\u001b[36mCell\u001b[39m\u001b[36m \u001b[39m\u001b[32mIn[2]\u001b[39m\u001b[32m, line 2\u001b[39m\n\u001b[32m      1\u001b[39m \u001b[38;5;28;01mfrom\u001b[39;00m\u001b[38;5;250m \u001b[39m\u001b[34;01mapi_utils\u001b[39;00m\u001b[38;5;250m \u001b[39m\u001b[38;5;28;01mimport\u001b[39;00m ElevenLabsAPI\n\u001b[32m----> \u001b[39m\u001b[32m2\u001b[39m elevenlabs = \u001b[43mElevenLabsAPI\u001b[49m\u001b[43m(\u001b[49m\u001b[43m)\u001b[49m\n\u001b[32m      3\u001b[39m \u001b[38;5;28;01mfor\u001b[39;00m i \u001b[38;5;129;01min\u001b[39;00m \u001b[38;5;28mrange\u001b[39m(\u001b[32m500\u001b[39m):\n\u001b[32m      4\u001b[39m     voice = random.choice(voice_id)\n",
      "\u001b[36mFile \u001b[39m\u001b[32m~/Documents/DataAnalatycs/Master/TFM2/src/api_utils.py:21\u001b[39m, in \u001b[36mElevenLabsAPI.__init__\u001b[39m\u001b[34m(self)\u001b[39m\n\u001b[32m     19\u001b[39m ELEVENLABS_API_KEY = os.getenv(\u001b[33m\"\u001b[39m\u001b[33mELEVENLABS_API_KEY\u001b[39m\u001b[33m\"\u001b[39m)\n\u001b[32m     20\u001b[39m \u001b[38;5;28;01mif\u001b[39;00m \u001b[38;5;129;01mnot\u001b[39;00m ELEVENLABS_API_KEY:\n\u001b[32m---> \u001b[39m\u001b[32m21\u001b[39m     \u001b[38;5;28;01mraise\u001b[39;00m \u001b[38;5;167;01mValueError\u001b[39;00m(\u001b[33m\"\u001b[39m\u001b[33mNo existe la variable de entorno ELEVENLABS_API_KEY\u001b[39m\u001b[33m\"\u001b[39m)\n\u001b[32m     22\u001b[39m \u001b[38;5;28mself\u001b[39m.client = ElevenLabs(api_key=ELEVENLABS_API_KEY)\n\u001b[32m     24\u001b[39m \u001b[38;5;28;01mdef\u001b[39;00m\u001b[38;5;250m \u001b[39m\u001b[34mclone_voice\u001b[39m(\u001b[38;5;28mself\u001b[39m, name:\u001b[38;5;28mstr\u001b[39m, audios:List[\u001b[38;5;28mstr\u001b[39m]):\n",
      "\u001b[31mValueError\u001b[39m: No existe la variable de entorno ELEVENLABS_API_KEY"
     ]
    }
   ],
   "source": [
    "from api_utils import ElevenLabsAPI\n",
    "elevenlabs = ElevenLabsAPI()\n",
    "for i in range(500):\n",
    "    voice = random.choice(voice_id)\n",
    "    save_file_path = f\"audios_eleven_labs/{path[i]}_{voice[0]}\"\n",
    "    print(i, voice[0], time.strftime(\"%H:%M:%S\", time.localtime()))\n",
    "    elevenlabs.text_to_speech(sentences[i], voice[1], save_file_path)"
   ]
  }
 ],
 "metadata": {
  "kernelspec": {
   "display_name": ".venv",
   "language": "python",
   "name": "python3"
  },
  "language_info": {
   "codemirror_mode": {
    "name": "ipython",
    "version": 3
   },
   "file_extension": ".py",
   "mimetype": "text/x-python",
   "name": "python",
   "nbconvert_exporter": "python",
   "pygments_lexer": "ipython3",
   "version": "3.12.3"
  }
 },
 "nbformat": 4,
 "nbformat_minor": 5
}
