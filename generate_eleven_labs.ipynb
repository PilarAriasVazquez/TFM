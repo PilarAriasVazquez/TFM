{
 "cells": [
  {
   "cell_type": "code",
   "execution_count": 2,
   "id": "f56e954a",
   "metadata": {},
   "outputs": [],
   "source": [
    "from api_utils import ElevenLabsAPI\n",
    "import pandas as pd\n",
    "import os\n",
    "import random \n",
    "import time"
   ]
  },
  {
   "cell_type": "code",
   "execution_count": 3,
   "id": "ef2377d0",
   "metadata": {},
   "outputs": [],
   "source": [
    "transcripts = pd.read_csv(\"train.tsv\", sep = \"\\t\")\n",
    "spanish_filter = transcripts[\"accents\"].str.contains(\"España\") | transcripts[\"accents\"].isnull()\n",
    "columns_remove = [\"client_id\",\"up_votes\",\"down_votes\",\"variant\",\"locale\", \"segment\",\"age\",\"gender\",\"accents\"]\n",
    "transcripts = transcripts.drop(columns_remove, axis = 1)"
   ]
  },
  {
   "cell_type": "code",
   "execution_count": 4,
   "id": "8d4f848a",
   "metadata": {},
   "outputs": [],
   "source": [
    "def get_audio_code(x):\n",
    "    temp = x.split(\"_\")[-1]\n",
    "    return temp.replace(\".mp3\", \"\")\n",
    "\n",
    "transcripts[\"id\"] = transcripts[\"path\"].apply(get_audio_code)"
   ]
  },
  {
   "cell_type": "code",
   "execution_count": 5,
   "id": "940eec4f",
   "metadata": {},
   "outputs": [],
   "source": [
    "audio_names = os.listdir(\"/home/juanhern/Downloads/es_train_3/\")\n",
    "transcripts = transcripts[transcripts[\"path\"].isin(audio_names)]"
   ]
  },
  {
   "cell_type": "code",
   "execution_count": 6,
   "id": "564a1aa8",
   "metadata": {},
   "outputs": [],
   "source": [
    "voice_id = [(\"Sara\", \"KHCvMklQZZo0O30ERnVn\"), \n",
    "            (\"David\", \"Nh2zY9kknu6z4pZy6FhD\"), \n",
    "            (\"JuanCarlos\", \"YExhVa4bZONzeingloMX\"), \n",
    "            (\"Elena\", \"tXgbXPnsMpKXkuTgvE3h\"),\n",
    "            (\"Emilio\", \"ZCh4e9eZSUf41K4cmCEL\"),\n",
    "            (\"Martin\", \"W5JElH3dK1UYYAiHH7uh\")]"
   ]
  },
  {
   "cell_type": "code",
   "execution_count": null,
   "id": "653788a8",
   "metadata": {},
   "outputs": [],
   "source": [
    "sentences = transcripts[\"sentence\"].values[:500]\n",
    "path = transcripts[\"path\"].values[:500]\n",
    "path = [path.replace(\".mp3\", \"\") for path in path]"
   ]
  },
  {
   "cell_type": "code",
   "execution_count": null,
   "id": "5d1dffa8",
   "metadata": {},
   "outputs": [],
   "source": [
    "elevenlabs = ElevenLabsAPI()\n",
    "for i in range(500):\n",
    "    voice = random.choice(voice_id)\n",
    "    save_file_path = f\"audios_eleven_labs/{path[i]}_{voice[0]}\"\n",
    "    print(i, voice[0], time.strftime(\"%H:%M:%S\", time.localtime()))\n",
    "    elevenlabs.text_to_speech(sentences[i], voice[1], save_file_path)"
   ]
  }
 ],
 "metadata": {
  "kernelspec": {
   "display_name": ".venv",
   "language": "python",
   "name": "python3"
  },
  "language_info": {
   "codemirror_mode": {
    "name": "ipython",
    "version": 3
   },
   "file_extension": ".py",
   "mimetype": "text/x-python",
   "name": "python",
   "nbconvert_exporter": "python",
   "pygments_lexer": "ipython3",
   "version": "3.12.3"
  }
 },
 "nbformat": 4,
 "nbformat_minor": 5
}
